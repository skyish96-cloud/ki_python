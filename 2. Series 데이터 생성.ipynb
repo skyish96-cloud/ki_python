{
 "cells": [
  {
   "cell_type": "markdown",
   "id": "ed59f07b",
   "metadata": {},
   "source": [
    "# Series\n",
    "  - pandas의 기본 객체 중 하나\n",
    "  - numpy의 ndarray를 기반으로 **인덱싱 기능**이 추가된 **1차원 배열**을 나타냄 (index x value 의 형태)\n",
    "  - index를 지정하지 않을 시, 기본적으로 ndarray와 같이 0-based 인덱스 생성, 지정할 경우 명시적으로 지정된 index를 사용\n",
    "  - **같은 타입**의 0개 이상의 데이터를 가질 수 있음"
   ]
  },
  {
   "cell_type": "code",
   "execution_count": 2,
   "id": "a388a5fa",
   "metadata": {},
   "outputs": [],
   "source": [
    "import numpy as np\n",
    "import pandas as pd"
   ]
  },
  {
   "cell_type": "markdown",
   "id": "59938d2d",
   "metadata": {},
   "source": [
    "## Series 생성 : data로만 생성하기\n",
    " - index는 기본적으로 0부터 자동적으로 생성"
   ]
  },
  {
   "cell_type": "code",
   "execution_count": 5,
   "id": "0c33ec29",
   "metadata": {},
   "outputs": [
    {
     "data": {
      "text/plain": [
       "0    1\n",
       "1    2\n",
       "2    3\n",
       "dtype: int64"
      ]
     },
     "execution_count": 5,
     "metadata": {},
     "output_type": "execute_result"
    }
   ],
   "source": [
    "s1 = pd.Series([1,2,3])\n",
    "s1"
   ]
  },
  {
   "cell_type": "markdown",
   "id": "08d6a897",
   "metadata": {},
   "source": [
    "#### .values .index .dtype"
   ]
  },
  {
   "cell_type": "code",
   "execution_count": 6,
   "id": "5be1860d",
   "metadata": {},
   "outputs": [
    {
     "data": {
      "text/plain": [
       "array([1, 2, 3])"
      ]
     },
     "execution_count": 6,
     "metadata": {},
     "output_type": "execute_result"
    }
   ],
   "source": [
    "s1.values"
   ]
  },
  {
   "cell_type": "code",
   "execution_count": 8,
   "id": "96537b7c",
   "metadata": {},
   "outputs": [
    {
     "data": {
      "text/plain": [
       "RangeIndex(start=0, stop=3, step=1)"
      ]
     },
     "execution_count": 8,
     "metadata": {},
     "output_type": "execute_result"
    }
   ],
   "source": [
    "s1.index"
   ]
  },
  {
   "cell_type": "code",
   "execution_count": 9,
   "id": "122fb85c",
   "metadata": {},
   "outputs": [
    {
     "data": {
      "text/plain": [
       "dtype('int64')"
      ]
     },
     "execution_count": 9,
     "metadata": {},
     "output_type": "execute_result"
    }
   ],
   "source": [
    "s1.dtype"
   ]
  },
  {
   "cell_type": "code",
   "execution_count": 11,
   "id": "9f801982",
   "metadata": {},
   "outputs": [
    {
     "data": {
      "text/plain": [
       "(0    a\n",
       " 1    b\n",
       " 2    c\n",
       " dtype: object,\n",
       " dtype('O'))"
      ]
     },
     "execution_count": 11,
     "metadata": {},
     "output_type": "execute_result"
    }
   ],
   "source": [
    "s2 = pd.Series(['a','b','c'])\n",
    "s2, s2.dtype # str이 아닌 object, O 라고 나옴"
   ]
  },
  {
   "cell_type": "code",
   "execution_count": 15,
   "id": "5a1188ed",
   "metadata": {},
   "outputs": [
    {
     "data": {
      "text/plain": [
       "0        0\n",
       "1        1\n",
       "2        2\n",
       "3        3\n",
       "4        4\n",
       "      ... \n",
       "195    195\n",
       "196    196\n",
       "197    197\n",
       "198    198\n",
       "199    199\n",
       "Length: 200, dtype: int64"
      ]
     },
     "execution_count": 15,
     "metadata": {},
     "output_type": "execute_result"
    }
   ],
   "source": [
    "s3 = pd.Series(np.arange(200))\n",
    "s3"
   ]
  },
  {
   "cell_type": "code",
   "execution_count": 16,
   "id": "0bef6c3d",
   "metadata": {},
   "outputs": [
    {
     "data": {
      "text/plain": [
       "0    0.0\n",
       "1    1.0\n",
       "2    2.0\n",
       "3    3.0\n",
       "4    4.0\n",
       "5    5.0\n",
       "6    6.0\n",
       "7    7.0\n",
       "8    8.0\n",
       "9    9.0\n",
       "dtype: float64"
      ]
     },
     "execution_count": 16,
     "metadata": {},
     "output_type": "execute_result"
    }
   ],
   "source": [
    "s4 = pd.Series(np.arange(10, dtype= 'float'))\n",
    "s4"
   ]
  },
  {
   "cell_type": "code",
   "execution_count": 17,
   "id": "b15618ea",
   "metadata": {},
   "outputs": [
    {
     "data": {
      "text/plain": [
       "np.float64(3.0)"
      ]
     },
     "execution_count": 17,
     "metadata": {},
     "output_type": "execute_result"
    }
   ],
   "source": [
    "s4[3]"
   ]
  },
  {
   "cell_type": "markdown",
   "id": "9e5388d8",
   "metadata": {},
   "source": [
    "## Series 생성: data, index 함께 명시하여 생성"
   ]
  },
  {
   "cell_type": "code",
   "execution_count": null,
   "id": "9296a88e",
   "metadata": {},
   "outputs": [
    {
     "data": {
      "text/plain": [
       "Series([], dtype: object)"
      ]
     },
     "execution_count": 18,
     "metadata": {},
     "output_type": "execute_result"
    }
   ],
   "source": [
    "pd.Series(\n",
    "    data=None, # 데이터\n",
    "    index=None, # 인덱스 이름\n",
    "    dtype=None, # 데이터의 자료형\n",
    "    name=None, # 시리즈의 전체 이름\n",
    ")"
   ]
  },
  {
   "cell_type": "code",
   "execution_count": 22,
   "id": "be24b697",
   "metadata": {},
   "outputs": [
    {
     "data": {
      "text/plain": [
       "100    1\n",
       "200    2\n",
       "300    3\n",
       "dtype: int64"
      ]
     },
     "execution_count": 22,
     "metadata": {},
     "output_type": "execute_result"
    }
   ],
   "source": [
    "# data, index 의 파라미터는 순서만 지키면 생략가능.\n",
    "s5 = pd.Series(data=[1,2,3],index=[100,200,300])\n",
    "s5"
   ]
  },
  {
   "cell_type": "code",
   "execution_count": 24,
   "id": "712b7a87",
   "metadata": {},
   "outputs": [
    {
     "data": {
      "text/plain": [
       "np.int64(1)"
      ]
     },
     "execution_count": 24,
     "metadata": {},
     "output_type": "execute_result"
    }
   ],
   "source": [
    "s5[100]"
   ]
  },
  {
   "cell_type": "code",
   "execution_count": 25,
   "id": "dcc599ea",
   "metadata": {},
   "outputs": [
    {
     "data": {
      "text/plain": [
       "Index([100, 200, 300], dtype='int64')"
      ]
     },
     "execution_count": 25,
     "metadata": {},
     "output_type": "execute_result"
    }
   ],
   "source": [
    "s5.index"
   ]
  },
  {
   "cell_type": "code",
   "execution_count": 26,
   "id": "f9adefb2",
   "metadata": {},
   "outputs": [
    {
     "data": {
      "text/plain": [
       "홍길동    100\n",
       "이순신     90\n",
       "김유신     80\n",
       "dtype: int64"
      ]
     },
     "execution_count": 26,
     "metadata": {},
     "output_type": "execute_result"
    }
   ],
   "source": [
    "# 인덱스는 문자열로 가능하다\n",
    "s6=pd.Series([100,90,80], ['홍길동','이순신','김유신'])\n",
    "s6"
   ]
  },
  {
   "cell_type": "code",
   "execution_count": 27,
   "id": "89f74208",
   "metadata": {},
   "outputs": [
    {
     "data": {
      "text/plain": [
       "np.int64(80)"
      ]
     },
     "execution_count": 27,
     "metadata": {},
     "output_type": "execute_result"
    }
   ],
   "source": [
    "s6['김유신']"
   ]
  },
  {
   "cell_type": "code",
   "execution_count": 29,
   "id": "47a3af5b",
   "metadata": {},
   "outputs": [
    {
     "data": {
      "text/plain": [
       "홍길동    1\n",
       "홍길동    2\n",
       "홍길동    3\n",
       "이순신    4\n",
       "dtype: int64"
      ]
     },
     "execution_count": 29,
     "metadata": {},
     "output_type": "execute_result"
    }
   ],
   "source": [
    "# index 값은 중복이 가능하다.\n",
    "s7 = pd.Series([1,2,3,4], ['홍길동','홍길동','홍길동','이순신'])\n",
    "s7"
   ]
  },
  {
   "cell_type": "code",
   "execution_count": 30,
   "id": "ebb6bfb2",
   "metadata": {},
   "outputs": [
    {
     "data": {
      "text/plain": [
       "홍길동    1\n",
       "홍길동    2\n",
       "홍길동    3\n",
       "dtype: int64"
      ]
     },
     "execution_count": 30,
     "metadata": {},
     "output_type": "execute_result"
    }
   ],
   "source": [
    "s7['홍길동']"
   ]
  },
  {
   "cell_type": "code",
   "execution_count": null,
   "id": "68a7da13",
   "metadata": {},
   "outputs": [
    {
     "data": {
      "text/plain": [
       "유재석    100\n",
       "강호동     80\n",
       "신동엽     90\n",
       "dtype: int64"
      ]
     },
     "execution_count": 36,
     "metadata": {},
     "output_type": "execute_result"
    }
   ],
   "source": [
    "# index - value, key - value 형태의 유사\n",
    "# dictionary 로도 Series 객체를 생성할 수 있다.\n",
    "# dict 는 키가 중복이 되지 않고 Series 는 인덱스가 중복이 가능/ 중복하니 뒤에값만 출력됨\n",
    "data = {'유재석':100, '강호동':80, '신동엽':90}\n",
    "s7 = pd.Series(data)\n",
    "s7"
   ]
  },
  {
   "cell_type": "markdown",
   "id": "9802240d",
   "metadata": {},
   "source": [
    "##  dtype 명시하여 생성 "
   ]
  },
  {
   "cell_type": "code",
   "execution_count": 38,
   "id": "eadada2f",
   "metadata": {},
   "outputs": [
    {
     "data": {
      "text/plain": [
       "100    0\n",
       "101    1\n",
       "102    2\n",
       "103    3\n",
       "104    4\n",
       "dtype: int16"
      ]
     },
     "execution_count": 38,
     "metadata": {},
     "output_type": "execute_result"
    }
   ],
   "source": [
    "s8 = pd.Series(np.arange(5), index=np.arange(100, 105), dtype=np.int16)\n",
    "s8"
   ]
  },
  {
   "cell_type": "code",
   "execution_count": 40,
   "id": "7c8dce0c",
   "metadata": {},
   "outputs": [
    {
     "data": {
      "text/plain": [
       "0    0\n",
       "1    1\n",
       "2    2\n",
       "3    3\n",
       "4    4\n",
       "dtype: int64"
      ]
     },
     "execution_count": 40,
     "metadata": {},
     "output_type": "execute_result"
    }
   ],
   "source": [
    "# 파이썬에서는 기본적으로 data 에 형식은 자동으로 유추\n",
    "# dtype 을 명시하지 않으면 pandas 에서는 자동으로 유추\n",
    "# 운영체제에 따라서 dtype 을 결정하는 경우도 있음\n",
    "pd.Series(np.arange(5)) # 명시 되어 있는 경우"
   ]
  },
  {
   "cell_type": "code",
   "execution_count": 43,
   "id": "968078e6",
   "metadata": {},
   "outputs": [
    {
     "data": {
      "text/plain": [
       "0    10\n",
       "1    20\n",
       "2    30\n",
       "dtype: int64"
      ]
     },
     "execution_count": 43,
     "metadata": {},
     "output_type": "execute_result"
    }
   ],
   "source": [
    "pd.Series([10,20,30]) # pandas 가 유추"
   ]
  },
  {
   "cell_type": "code",
   "execution_count": 47,
   "id": "62c44e65",
   "metadata": {},
   "outputs": [
    {
     "data": {
      "text/plain": [
       "0    10.0\n",
       "1     1.1\n",
       "2    20.0\n",
       "dtype: float64"
      ]
     },
     "execution_count": 47,
     "metadata": {},
     "output_type": "execute_result"
    }
   ],
   "source": [
    "pd.Series([10,1.1,20]) # 자료형이 섞인 경우 표현이 가능한 자료형으로 변환"
   ]
  },
  {
   "cell_type": "markdown",
   "id": "5858bd4e",
   "metadata": {},
   "source": [
    "## 인덱스 활용"
   ]
  },
  {
   "cell_type": "code",
   "execution_count": 51,
   "id": "fa614f60",
   "metadata": {},
   "outputs": [
    {
     "data": {
      "text/plain": [
       "100    0\n",
       "101    1\n",
       "102    2\n",
       "103    3\n",
       "104    4\n",
       "dtype: int16"
      ]
     },
     "execution_count": 51,
     "metadata": {},
     "output_type": "execute_result"
    }
   ],
   "source": [
    "s8"
   ]
  },
  {
   "cell_type": "code",
   "execution_count": 52,
   "id": "fb60f7fa",
   "metadata": {},
   "outputs": [
    {
     "data": {
      "text/plain": [
       "Index([100, 101, 102, 103, 104], dtype='int64')"
      ]
     },
     "execution_count": 52,
     "metadata": {},
     "output_type": "execute_result"
    }
   ],
   "source": [
    "s8.index"
   ]
  },
  {
   "cell_type": "code",
   "execution_count": 54,
   "id": "97a25216",
   "metadata": {},
   "outputs": [
    {
     "data": {
      "text/plain": [
       "array([100, 101, 102, 103, 104])"
      ]
     },
     "execution_count": 54,
     "metadata": {},
     "output_type": "execute_result"
    }
   ],
   "source": [
    "s8.index.values # Series 인덱스의 값을 array로 반환"
   ]
  },
  {
   "cell_type": "code",
   "execution_count": 57,
   "id": "f7588087",
   "metadata": {},
   "outputs": [
    {
     "data": {
      "text/plain": [
       "array([0, 1, 2, 3, 4], dtype=int16)"
      ]
     },
     "execution_count": 57,
     "metadata": {},
     "output_type": "execute_result"
    }
   ],
   "source": [
    "s8.values # Series 의 값"
   ]
  },
  {
   "cell_type": "markdown",
   "id": "cbc3d486",
   "metadata": {},
   "source": [
    "#### 1.인덱스를 통한 데이터 접근"
   ]
  },
  {
   "cell_type": "code",
   "execution_count": 59,
   "id": "9d16e0fe",
   "metadata": {},
   "outputs": [
    {
     "data": {
      "text/plain": [
       "np.int16(0)"
      ]
     },
     "execution_count": 59,
     "metadata": {},
     "output_type": "execute_result"
    }
   ],
   "source": [
    "s8[100]"
   ]
  },
  {
   "cell_type": "code",
   "execution_count": 60,
   "id": "3a567992",
   "metadata": {},
   "outputs": [
    {
     "data": {
      "text/plain": [
       "(np.int16(2), np.int16(4))"
      ]
     },
     "execution_count": 60,
     "metadata": {},
     "output_type": "execute_result"
    }
   ],
   "source": [
    "s8[102],s8[104]"
   ]
  },
  {
   "cell_type": "code",
   "execution_count": 61,
   "id": "3f40fcf8",
   "metadata": {},
   "outputs": [
    {
     "data": {
      "text/plain": [
       "np.int16(0)"
      ]
     },
     "execution_count": 61,
     "metadata": {},
     "output_type": "execute_result"
    }
   ],
   "source": [
    "s8[100] # 결과 타입은 달일값"
   ]
  },
  {
   "cell_type": "code",
   "execution_count": 63,
   "id": "b89e6e55",
   "metadata": {},
   "outputs": [
    {
     "data": {
      "text/plain": [
       "100    0\n",
       "dtype: int16"
      ]
     },
     "execution_count": 63,
     "metadata": {},
     "output_type": "execute_result"
    }
   ],
   "source": [
    "s8[[100]] # 결과 타입은 Series/ Series 형태로 값을 가져오기"
   ]
  },
  {
   "cell_type": "code",
   "execution_count": 65,
   "id": "996bdcf8",
   "metadata": {},
   "outputs": [
    {
     "data": {
      "text/plain": [
       "100    0\n",
       "102    2\n",
       "dtype: int16"
      ]
     },
     "execution_count": 65,
     "metadata": {},
     "output_type": "execute_result"
    }
   ],
   "source": [
    "s8[[100,102]] # []하나만 사용하는것은 슬라이싱이 아니라면 두개이상의 값을 가져올 수 없다\n",
    "# 두개 이상의 값을 가져오려면 Series 형태로 가져와야 함"
   ]
  },
  {
   "cell_type": "code",
   "execution_count": 67,
   "id": "649d0789",
   "metadata": {},
   "outputs": [
    {
     "data": {
      "text/plain": [
       "100    0\n",
       "101    1\n",
       "dtype: int16"
      ]
     },
     "execution_count": 67,
     "metadata": {},
     "output_type": "execute_result"
    }
   ],
   "source": [
    "s8[:2] # 슬라이싱"
   ]
  },
  {
   "cell_type": "code",
   "execution_count": 68,
   "id": "3ff62e02",
   "metadata": {},
   "outputs": [
    {
     "data": {
      "text/plain": [
       "104    4\n",
       "101    1\n",
       "102    2\n",
       "dtype: int16"
      ]
     },
     "execution_count": 68,
     "metadata": {},
     "output_type": "execute_result"
    }
   ],
   "source": [
    "s8[[104,101,102]] # 인덱스 번호 순서와 상관 없이 호출 순서대로 반환"
   ]
  },
  {
   "cell_type": "code",
   "execution_count": 69,
   "id": "a9d00ce9",
   "metadata": {},
   "outputs": [
    {
     "data": {
      "text/plain": [
       "100    0\n",
       "100    0\n",
       "100    0\n",
       "101    1\n",
       "101    1\n",
       "101    1\n",
       "102    2\n",
       "102    2\n",
       "103    3\n",
       "104    4\n",
       "dtype: int16"
      ]
     },
     "execution_count": 69,
     "metadata": {},
     "output_type": "execute_result"
    }
   ],
   "source": [
    "# 동일한 인덱스를 반복해서 호출 가능\n",
    "s8[[100,100,100,101,101,101,102,102,103,104]]"
   ]
  },
  {
   "cell_type": "markdown",
   "id": "18d42dd4",
   "metadata": {},
   "source": [
    "### 2. 인덱스를 통한 데이터 업데이트"
   ]
  },
  {
   "cell_type": "code",
   "execution_count": 73,
   "id": "3ad7911a",
   "metadata": {},
   "outputs": [
    {
     "data": {
      "text/plain": [
       "100    1000\n",
       "101       1\n",
       "102       2\n",
       "103       3\n",
       "104       4\n",
       "dtype: int16"
      ]
     },
     "execution_count": 73,
     "metadata": {},
     "output_type": "execute_result"
    }
   ],
   "source": [
    "s8[100] = 1000 # 인덱스 번호를 통한 값 변환\n",
    "s8"
   ]
  },
  {
   "cell_type": "code",
   "execution_count": 74,
   "id": "a88233aa",
   "metadata": {},
   "outputs": [
    {
     "data": {
      "text/plain": [
       "[1, 2, 3]"
      ]
     },
     "execution_count": 74,
     "metadata": {},
     "output_type": "execute_result"
    }
   ],
   "source": [
    "ls =[1,2,3]\n",
    "ls"
   ]
  },
  {
   "cell_type": "code",
   "execution_count": 75,
   "id": "cb608533",
   "metadata": {},
   "outputs": [
    {
     "data": {
      "text/plain": [
       "[100, 2, 3]"
      ]
     },
     "execution_count": 75,
     "metadata": {},
     "output_type": "execute_result"
    }
   ],
   "source": [
    "ls[0] = 100\n",
    "ls"
   ]
  },
  {
   "cell_type": "code",
   "execution_count": null,
   "id": "a4ac3ef3",
   "metadata": {},
   "outputs": [],
   "source": [
    "ls[3] = 200 # list 에서는 없는 인덱스 값이면 예외처리"
   ]
  },
  {
   "cell_type": "code",
   "execution_count": 78,
   "id": "f1c4aca0",
   "metadata": {},
   "outputs": [
    {
     "data": {
      "text/plain": [
       "array([1, 2, 3])"
      ]
     },
     "execution_count": 78,
     "metadata": {},
     "output_type": "execute_result"
    }
   ],
   "source": [
    "n = np.array([1,2,3])\n",
    "n"
   ]
  },
  {
   "cell_type": "code",
   "execution_count": null,
   "id": "8c6deef6",
   "metadata": {},
   "outputs": [],
   "source": [
    "n[3] = 100 # 넘파이 array 에서도 예외 처리\n"
   ]
  },
  {
   "cell_type": "code",
   "execution_count": null,
   "id": "b6832dc7",
   "metadata": {},
   "outputs": [
    {
     "data": {
      "text/plain": [
       "100    1000\n",
       "101       1\n",
       "102       2\n",
       "103       3\n",
       "104       4\n",
       "105       5\n",
       "dtype: int16"
      ]
     },
     "execution_count": 80,
     "metadata": {},
     "output_type": "execute_result"
    }
   ],
   "source": [
    "s8[105] =5 # Series에서는 인덱스값을 지정해서 추가 가능\n",
    "s8"
   ]
  },
  {
   "cell_type": "code",
   "execution_count": 83,
   "id": "5ad51cd9",
   "metadata": {},
   "outputs": [
    {
     "data": {
      "text/plain": [
       "100    1000\n",
       "101       1\n",
       "102       2\n",
       "103       3\n",
       "104       4\n",
       "105       5\n",
       "200      70\n",
       "106      60\n",
       "dtype: int16"
      ]
     },
     "execution_count": 83,
     "metadata": {},
     "output_type": "execute_result"
    }
   ],
   "source": [
    "# 인덱스의 순서는 입력 순서대로 처리 된다.\n",
    "s8[200]=70\n",
    "s8[106]=60\n",
    "s8"
   ]
  },
  {
   "cell_type": "code",
   "execution_count": 87,
   "id": "36dcab5d",
   "metadata": {},
   "outputs": [
    {
     "data": {
      "text/plain": [
       "100    1000\n",
       "101       1\n",
       "102       2\n",
       "103       3\n",
       "104       4\n",
       "105       5\n",
       "200     700\n",
       "106     600\n",
       "dtype: int64"
      ]
     },
     "execution_count": 87,
     "metadata": {},
     "output_type": "execute_result"
    }
   ],
   "source": [
    "# Series 를 통해서 여러 값을 한번에 변경할 수도 있다.\n",
    "s8[[200,106]]= 700,600\n",
    "s8"
   ]
  },
  {
   "cell_type": "code",
   "execution_count": 90,
   "id": "8c918d19",
   "metadata": {},
   "outputs": [
    {
     "data": {
      "text/plain": [
       "100    1000\n",
       "101       1\n",
       "102       2\n",
       "103       3\n",
       "104       4\n",
       "105       5\n",
       "200     700\n",
       "106     600\n",
       "abc     100\n",
       "dtype: int64"
      ]
     },
     "execution_count": 90,
     "metadata": {},
     "output_type": "execute_result"
    }
   ],
   "source": [
    "s8['abc'] = 100\n",
    "s8"
   ]
  },
  {
   "cell_type": "code",
   "execution_count": 91,
   "id": "8ffc13a6",
   "metadata": {},
   "outputs": [
    {
     "data": {
      "text/plain": [
       "abc    100\n",
       "200    700\n",
       "dtype: int64"
      ]
     },
     "execution_count": 91,
     "metadata": {},
     "output_type": "execute_result"
    }
   ],
   "source": [
    "s8[['abc',200]]"
   ]
  },
  {
   "cell_type": "markdown",
   "id": "701ebe64",
   "metadata": {},
   "source": [
    "### 3. 인덱스 재사용하기"
   ]
  },
  {
   "cell_type": "code",
   "execution_count": 92,
   "id": "45c7eda1",
   "metadata": {},
   "outputs": [
    {
     "data": {
      "text/plain": [
       "Index([100, 101, 102, 103, 104, 105, 200, 106, 'abc'], dtype='object')"
      ]
     },
     "execution_count": 92,
     "metadata": {},
     "output_type": "execute_result"
    }
   ],
   "source": [
    "# 기존에 Series 에 있던 Index 를 다른 Series 에 재사용하는 방법\n",
    "s8.index"
   ]
  },
  {
   "cell_type": "code",
   "execution_count": 96,
   "id": "33553503",
   "metadata": {},
   "outputs": [
    {
     "data": {
      "text/plain": [
       "9"
      ]
     },
     "execution_count": 96,
     "metadata": {},
     "output_type": "execute_result"
    }
   ],
   "source": [
    "len(s8.values)"
   ]
  },
  {
   "cell_type": "code",
   "execution_count": 97,
   "id": "08c93dd3",
   "metadata": {},
   "outputs": [
    {
     "data": {
      "text/plain": [
       "100    0\n",
       "101    1\n",
       "102    2\n",
       "103    3\n",
       "104    4\n",
       "105    5\n",
       "200    6\n",
       "106    7\n",
       "abc    8\n",
       "dtype: int64"
      ]
     },
     "execution_count": 97,
     "metadata": {},
     "output_type": "execute_result"
    }
   ],
   "source": [
    "s9 = pd.Series(np.arange(len(s8)),s8.index)\n",
    "s9"
   ]
  },
  {
   "cell_type": "markdown",
   "id": "eb9febe8",
   "metadata": {},
   "source": [
    "### Series name, Index name, Index 변경"
   ]
  },
  {
   "cell_type": "code",
   "execution_count": null,
   "id": "692a0436",
   "metadata": {},
   "outputs": [],
   "source": []
  },
  {
   "cell_type": "code",
   "execution_count": 98,
   "id": "b0a4199b",
   "metadata": {},
   "outputs": [
    {
     "data": {
      "text/plain": [
       "유재석    100\n",
       "강호동     80\n",
       "신동엽     90\n",
       "dtype: int64"
      ]
     },
     "execution_count": 98,
     "metadata": {},
     "output_type": "execute_result"
    }
   ],
   "source": [
    "s7"
   ]
  },
  {
   "cell_type": "code",
   "execution_count": 101,
   "id": "7c5045ce",
   "metadata": {},
   "outputs": [
    {
     "data": {
      "text/plain": [
       "유재석    100\n",
       "강호동     80\n",
       "신동엽     90\n",
       "Name: 성적, dtype: int64"
      ]
     },
     "execution_count": 101,
     "metadata": {},
     "output_type": "execute_result"
    }
   ],
   "source": [
    "# Series 의 이름\n",
    "s7.name = '성적'\n",
    "s7"
   ]
  },
  {
   "cell_type": "code",
   "execution_count": 102,
   "id": "5cca5547",
   "metadata": {},
   "outputs": [
    {
     "data": {
      "text/plain": [
       "이름\n",
       "유재석    100\n",
       "강호동     80\n",
       "신동엽     90\n",
       "Name: 성적, dtype: int64"
      ]
     },
     "execution_count": 102,
     "metadata": {},
     "output_type": "execute_result"
    }
   ],
   "source": [
    "# index 로 이름을 지정할 수 있다.\n",
    "s7.index.name = '이름'\n",
    "s7"
   ]
  },
  {
   "cell_type": "code",
   "execution_count": 103,
   "id": "b9c93336",
   "metadata": {},
   "outputs": [
    {
     "data": {
      "text/plain": [
       "카리나    100\n",
       "윈터      80\n",
       "닝닝      90\n",
       "Name: 성적, dtype: int64"
      ]
     },
     "execution_count": 103,
     "metadata": {},
     "output_type": "execute_result"
    }
   ],
   "source": [
    "s7.index = ['카리나','윈터','닝닝']\n",
    "s7"
   ]
  },
  {
   "cell_type": "code",
   "execution_count": null,
   "id": "fc2f32eb",
   "metadata": {},
   "outputs": [],
   "source": []
  }
 ],
 "metadata": {
  "kernelspec": {
   "display_name": "venv",
   "language": "python",
   "name": "python3"
  },
  "language_info": {
   "codemirror_mode": {
    "name": "ipython",
    "version": 3
   },
   "file_extension": ".py",
   "mimetype": "text/x-python",
   "name": "python",
   "nbconvert_exporter": "python",
   "pygments_lexer": "ipython3",
   "version": "3.12.3"
  }
 },
 "nbformat": 4,
 "nbformat_minor": 5
}
